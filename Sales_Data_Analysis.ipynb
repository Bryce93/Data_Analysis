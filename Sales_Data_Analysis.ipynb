{
 "cells": [
  {
   "cell_type": "markdown",
   "metadata": {},
   "source": [
    "### Sales Data Analysis:\n",
    "\n",
    "The following analysis has been performed using the sales_data.csv and steps provided within the Data Analysis with Python on freeCodeCamp:\n",
    "\n",
    "https://www.freecodecamp.org/learn/data-analysis-with-python/data-analysis-with-python-course/data-analysis-example-a"
   ]
  },
  {
   "cell_type": "code",
   "execution_count": null,
   "metadata": {},
   "outputs": [],
   "source": [
    "# import libraries:\n",
    "import numpy as np\n",
    "import pandas as pd\n",
    "import matplotlib.pyplot as plt"
   ]
  },
  {
   "cell_type": "code",
   "execution_count": null,
   "metadata": {},
   "outputs": [],
   "source": [
    "\"\"\"Parse Dates: The parse_dates=['Date'] argument tells pandas to automatically convert the values in the Date column into datetime objects. \n",
    "This is useful for working with dates, as it allows you to perform operations like filtering by time ranges or extracting components such as year, month, or day.\"\"\"\n",
    "\n",
    "# change file path as required:\n",
    "sales = pd.read_csv(r'Data_Analysis\\Data\\sales_data.csv', parse_dates=['Date'])"
   ]
  },
  {
   "cell_type": "code",
   "execution_count": null,
   "metadata": {},
   "outputs": [],
   "source": [
    "# review top 5 rows to assess data structure:\n",
    "sales.head()"
   ]
  },
  {
   "cell_type": "code",
   "execution_count": null,
   "metadata": {},
   "outputs": [],
   "source": [
    "# 113K rows by 18 columns:\n",
    "sales.shape"
   ]
  },
  {
   "cell_type": "code",
   "execution_count": null,
   "metadata": {},
   "outputs": [],
   "source": [
    "# sanity check the columns and data types are as expected:\n",
    "sales.info()"
   ]
  },
  {
   "cell_type": "code",
   "execution_count": null,
   "metadata": {},
   "outputs": [],
   "source": [
    "# descriptive stats of all numeric fields:\n",
    "sales.describe()"
   ]
  },
  {
   "cell_type": "code",
   "execution_count": null,
   "metadata": {},
   "outputs": [],
   "source": [
    "# review descriptive stats on Unit_Cost field alone:\n",
    "sales['Unit_Cost'].describe()"
   ]
  },
  {
   "cell_type": "code",
   "execution_count": null,
   "metadata": {},
   "outputs": [],
   "source": [
    "sales['Unit_Cost'].mean()"
   ]
  },
  {
   "cell_type": "code",
   "execution_count": null,
   "metadata": {},
   "outputs": [],
   "source": [
    "sales['Unit_Cost'].median()"
   ]
  },
  {
   "cell_type": "code",
   "execution_count": null,
   "metadata": {},
   "outputs": [],
   "source": [
    "# plot the distribution of the Unit_Cost column with a histogram:\n",
    "sales['Unit_Cost'].plot(kind='hist', figsize=(14,6))\n",
    "\n",
    "# Add axis labels\n",
    "plt.xlabel('Unit Cost')  # X-axis label\n",
    "plt.ylabel('Frequency') # Y-axis label\n",
    "\n",
    "# Show the plot\n",
    "plt.show()"
   ]
  },
  {
   "cell_type": "code",
   "execution_count": null,
   "metadata": {},
   "outputs": [],
   "source": [
    "# box plot displayed horizontally (vert=False):\n",
    "sales['Unit_Cost'].plot(kind='box', vert=False,figsize=(14,6))\n",
    "\n",
    "# Show the plot\n",
    "plt.show()"
   ]
  },
  {
   "cell_type": "code",
   "execution_count": null,
   "metadata": {},
   "outputs": [],
   "source": [
    "ax = sales['Unit_Cost'].plot(kind='density', figsize=(14,6))\n",
    "\n",
    "# Set vertical lines for mean and median:\n",
    "mean = sales['Unit_Cost'].mean()\n",
    "median = sales['Unit_Cost'].median()\n",
    "ax.axvline(mean, color='red', linestyle='--', label='Mean')\n",
    "ax.axvline(median, color='green', linestyle='--', label='Median')\n",
    "\n",
    "# Set axis labels:\n",
    "ax.set_ylabel('Number of Sales')\n",
    "ax.set_xlabel('Unit Cost')\n",
    "\n",
    "# Add a legend to clarify the lines:\n",
    "ax.legend()\n",
    "\n",
    "plt.show()"
   ]
  },
  {
   "cell_type": "code",
   "execution_count": null,
   "metadata": {},
   "outputs": [],
   "source": [
    "sales['Age_Group'].value_counts()"
   ]
  },
  {
   "cell_type": "code",
   "execution_count": null,
   "metadata": {},
   "outputs": [],
   "source": [
    "sales['Age_Group'].value_counts().plot(kind='pie', figsize=(6,6),  autopct='%1.1f%%')"
   ]
  },
  {
   "cell_type": "code",
   "execution_count": null,
   "metadata": {},
   "outputs": [],
   "source": [
    "sales['Product_Category'].value_counts()"
   ]
  },
  {
   "cell_type": "code",
   "execution_count": null,
   "metadata": {},
   "outputs": [],
   "source": [
    "sales['Product_Category'].value_counts().plot(kind='pie', figsize=(6,6),  autopct='%1.1f%%')"
   ]
  },
  {
   "cell_type": "code",
   "execution_count": null,
   "metadata": {},
   "outputs": [],
   "source": [
    "sales['Product'].value_counts()"
   ]
  },
  {
   "cell_type": "code",
   "execution_count": null,
   "metadata": {},
   "outputs": [],
   "source": [
    "# correlation matrix -1 negative, 0 none, 1 positive:\n",
    "corr = sales.corr(numeric_only=True)\n",
    "\n",
    "print(corr)"
   ]
  },
  {
   "cell_type": "code",
   "execution_count": null,
   "metadata": {},
   "outputs": [],
   "source": [
    "# plot correlation matrix:\n",
    "fig = plt.figure(figsize=(8,8))\n",
    "plt.matshow(corr, cmap='RdBu', fignum=fig.number)\n",
    "plt.colorbar()  # Adding a color legend\n",
    "plt.xticks(range(len(corr.columns)), corr.columns, rotation='vertical');\n",
    "plt.yticks(range(len(corr.columns)), corr.columns)"
   ]
  },
  {
   "cell_type": "code",
   "execution_count": null,
   "metadata": {},
   "outputs": [],
   "source": [
    "# deep dive Revenue vs Profit using a scatterplot:\n",
    "\n",
    "# Create scatterplot\n",
    "ax = sales.plot(kind='scatter', x='Revenue', y='Profit', figsize=(6, 6))\n",
    "\n",
    "# Calculate the line of best fit\n",
    "x = sales['Revenue']\n",
    "y = sales['Profit']\n",
    "m, b = np.polyfit(x, y, 1)  # m is the slope, b is the intercept\n",
    "\n",
    "# Plot the line of best fit\n",
    "plt.plot(x, m * x + b, color='red', label='Line of Best Fit')\n",
    "\n",
    "# Add labels and legend\n",
    "plt.xlabel('Revenue')\n",
    "plt.ylabel('Profit')\n",
    "plt.legend()\n",
    "\n",
    "# Display the plot\n",
    "plt.show()"
   ]
  },
  {
   "cell_type": "code",
   "execution_count": null,
   "metadata": {},
   "outputs": [],
   "source": [
    "# deep dive Cost vs Profit using a scatterplot:\n",
    "\n",
    "# Create scatterplot\n",
    "ax = sales.plot(kind='scatter', x='Cost', y='Profit', figsize=(6, 6))\n",
    "\n",
    "# Calculate the line of best fit\n",
    "x = sales['Cost']\n",
    "y = sales['Profit']\n",
    "m, b = np.polyfit(x, y, 1)  # m is the slope, b is the intercept\n",
    "\n",
    "# Plot the line of best fit\n",
    "plt.plot(x, m * x + b, color='red', label='Line of Best Fit')\n",
    "\n",
    "# Add labels and legend\n",
    "plt.xlabel('Cost')\n",
    "plt.ylabel('Profit')\n",
    "plt.legend()\n",
    "\n",
    "# Display the plot\n",
    "plt.show()"
   ]
  },
  {
   "cell_type": "code",
   "execution_count": null,
   "metadata": {},
   "outputs": [],
   "source": [
    "# FILTERING - return all the sales from the state of Kentucky:\n",
    "sales.loc[sales['State']=='Kentucky']"
   ]
  },
  {
   "cell_type": "code",
   "execution_count": null,
   "metadata": {},
   "outputs": [],
   "source": [
    "# Return the mean revenue of the 'Adults (35-64) sales group:\n",
    "sales.loc[sales['Age_Group']=='Adults (35-64)', 'Revenue'].mean().round(2)"
   ]
  },
  {
   "cell_type": "code",
   "execution_count": null,
   "metadata": {},
   "outputs": [],
   "source": [
    "# Return the mean revenue of the 'Adults (35-64) sales group + USA using &:\n",
    "sales.loc[(sales['Age_Group']=='Adults (35-64)') & (sales['Country']=='United States'), 'Revenue'].mean().round(2)"
   ]
  },
  {
   "cell_type": "code",
   "execution_count": null,
   "metadata": {},
   "outputs": [],
   "source": [
    "# Increase the Unit_Price of every sale to France or Germany by 10%\n",
    "sales.loc[(sales['Country']=='France') | (sales['Country']=='Germany'), 'Unit_Price']*= 1.1\n",
    "\n",
    "sales.loc[(sales['Country']=='France') | (sales['Country']=='Germany'), 'Unit_Price']"
   ]
  }
 ],
 "metadata": {
  "kernelspec": {
   "display_name": "Python 3",
   "language": "python",
   "name": "python3"
  },
  "language_info": {
   "codemirror_mode": {
    "name": "ipython",
    "version": 3
   },
   "file_extension": ".py",
   "mimetype": "text/x-python",
   "name": "python",
   "nbconvert_exporter": "python",
   "pygments_lexer": "ipython3",
   "version": "3.12.1"
  }
 },
 "nbformat": 4,
 "nbformat_minor": 2
}
