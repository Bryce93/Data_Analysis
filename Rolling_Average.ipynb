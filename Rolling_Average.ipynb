{
 "cells": [
  {
   "cell_type": "markdown",
   "metadata": {},
   "source": [
    "### Rolling Average in SQL\n",
    "\n",
    "The following script will use a generated dataframe of stock prices to demonstrate the SQL and Pandas syntax to create a 4 week rolling average."
   ]
  },
  {
   "cell_type": "code",
   "execution_count": null,
   "metadata": {},
   "outputs": [],
   "source": [
    "import pandas as pd\n",
    "import numpy as np\n",
    "import pandasql as psql\n",
    "from datetime import timedelta, date"
   ]
  },
  {
   "cell_type": "code",
   "execution_count": null,
   "metadata": {},
   "outputs": [],
   "source": [
    "# create a dummy df showing the weekly stock prices for 3 random stock symbols on the ASX:\n",
    "\n",
    "start_date = date(2024, 6, 1)\n",
    "end_date = start_date + timedelta(weeks=9)  # 10 weeks from the start date\n",
    "dates = pd.date_range(start=start_date, end=end_date, freq='W-FRI')\n",
    "\n",
    "stock_symbols = ['BHP', 'CBA', 'WES']\n",
    "\n",
    "data = {\n",
    "    'stock_symbol': np.repeat(stock_symbols, len(dates)),\n",
    "    'Date': np.tile(dates, len(stock_symbols)),\n",
    "    'Price': np.round(np.random.uniform(35, 55, len(stock_symbols) * len(dates)), 2)\n",
    "}\n",
    "df = pd.DataFrame(data)\n"
   ]
  },
  {
   "cell_type": "code",
   "execution_count": null,
   "metadata": {},
   "outputs": [],
   "source": [
    "# below is a demonstration of the syntax required to create a rolling 4wk average using SQL.\n",
    "# note that the SQL used by pandasql (SQLite) does not support this syntax and will error out - the below is for a demonstration only.\n",
    "\n",
    "query = \"\"\"\n",
    "SELECT stock_symbol\n",
    ", Date\n",
    ", Price\n",
    ", AVG(Price) over (Partition by stock_symbol order by Date rows between 4 PRECEEDING AND CURRENT  ROW) as rolling_4wk_avg\n",
    "FROM df\n",
    "\"\"\"\n",
    "result = psql.sqldf(query, locals())\n",
    "print(result)"
   ]
  },
  {
   "cell_type": "code",
   "execution_count": null,
   "metadata": {},
   "outputs": [],
   "source": [
    "# Calculate the rolling 4-week average using pandas:\n",
    "df['rolling_4wk_avg'] = df.groupby('stock_symbol')['Price'].transform(lambda x: x.rolling(window=4, min_periods=1).mean())\n",
    "\n",
    "# Example of converting the entire column to floats:\n",
    "df['rolling_4wk_avg'] = np.round(df['rolling_4wk_avg'].astype(float), 2)\n",
    "\n",
    "df"
   ]
  }
 ],
 "metadata": {
  "kernelspec": {
   "display_name": "Python 3",
   "language": "python",
   "name": "python3"
  },
  "language_info": {
   "codemirror_mode": {
    "name": "ipython",
    "version": 3
   },
   "file_extension": ".py",
   "mimetype": "text/x-python",
   "name": "python",
   "nbconvert_exporter": "python",
   "pygments_lexer": "ipython3",
   "version": "3.12.1"
  }
 },
 "nbformat": 4,
 "nbformat_minor": 2
}
