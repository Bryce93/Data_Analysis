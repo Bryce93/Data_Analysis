{
 "cells": [
  {
   "cell_type": "markdown",
   "metadata": {},
   "source": [
    "### A/B Test T-test Analysis\n",
    "\n",
    "* This script will go through how to conduct a t-test on some A/B test conversion data.\n",
    "* Please note that a t-test is being used at the population size is quite large > 50."
   ]
  },
  {
   "cell_type": "code",
   "execution_count": 24,
   "metadata": {},
   "outputs": [],
   "source": [
    "import pandas as pd\n",
    "import statsmodels.api as sm\n",
    "from statsmodels.stats.proportion import proportions_ztest"
   ]
  },
  {
   "cell_type": "code",
   "execution_count": 27,
   "metadata": {},
   "outputs": [
    {
     "name": "stdout",
     "output_type": "stream",
     "text": [
      "Conversion rate A: 0.1000\n",
      "Conversion rate B: 0.2500\n",
      "Conversation Rate is highest for Group B\n",
      "Z-statistic: -12.4838\n",
      "P-value: 0.0000\n",
      "Reject the null hypothesis: There is a significant difference between version A and B.\n"
     ]
    }
   ],
   "source": [
    "# Sample data\n",
    "offer_grp_A = 2000  # Number of visitors to version A\n",
    "offer_grp_B = 2000  # Number of visitors to version B\n",
    "redemptions_A = 200  # Number of conversions on version A\n",
    "redemptions_B = 500  # Number of conversions on version B\n",
    "\n",
    "# Conversion rates\n",
    "conversion_rate_A = redemptions_A / offer_grp_A\n",
    "conversion_rate_B = redemptions_B / offer_grp_B\n",
    "\n",
    "# Perform z-test\n",
    "counts = pd.array([redemptions_A, redemptions_B])\n",
    "nobs = pd.array([offer_grp_A, offer_grp_B])\n",
    "stat, pval = proportions_ztest(counts, nobs)\n",
    "\n",
    "print(f\"Conversion rate A: {conversion_rate_A:.4f}\")\n",
    "print(f\"Conversion rate B: {conversion_rate_B:.4f}\")\n",
    "\n",
    "if conversion_rate_A > conversion_rate_B:\n",
    "    print(\"Conversation Rate is highest for Group A\")\n",
    "elif conversion_rate_B > conversion_rate_A:\n",
    "    print(\"Conversation Rate is highest for Group B\")\n",
    "else: print(\"Conversation Rates are EQUAL\")\n",
    "\n",
    "# The higher the absolute z-statistic - the less likely the observation has occurred at random chance.\n",
    "print(f\"Z-statistic: {stat:.4f}\")\n",
    "# The closer to 0 the p-value - the more likely to reject the null hypothesis + affirm statistical significance.\n",
    "print(f\"P-value: {pval:.4f}\")\n",
    "\n",
    "# Interpretation\n",
    "alpha = 0.05 # alpha often set to 0.05 to help limit false positives (Type 1 error)\n",
    "if pval < alpha:\n",
    "    print(\"Reject the null hypothesis: There is a significant difference between version A and B.\")\n",
    "else:\n",
    "    print(\"Fail to reject the null hypothesis: There is no significant difference between version A and B.\")\n"
   ]
  }
 ],
 "metadata": {
  "kernelspec": {
   "display_name": "Python 3",
   "language": "python",
   "name": "python3"
  },
  "language_info": {
   "codemirror_mode": {
    "name": "ipython",
    "version": 3
   },
   "file_extension": ".py",
   "mimetype": "text/x-python",
   "name": "python",
   "nbconvert_exporter": "python",
   "pygments_lexer": "ipython3",
   "version": "3.12.1"
  }
 },
 "nbformat": 4,
 "nbformat_minor": 2
}
