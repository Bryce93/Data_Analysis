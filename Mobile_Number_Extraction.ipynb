{
 "cells": [
  {
   "cell_type": "markdown",
   "metadata": {},
   "source": [
    "### Mobile Number Extractor\n",
    "\n",
    "The following script will help you to extract a mobile number with any type of permutation from a string."
   ]
  },
  {
   "cell_type": "code",
   "execution_count": 2,
   "metadata": {},
   "outputs": [],
   "source": [
    "import re\n",
    "import pandas as pd"
   ]
  },
  {
   "cell_type": "code",
   "execution_count": 11,
   "metadata": {},
   "outputs": [
    {
     "name": "stdout",
     "output_type": "stream",
     "text": [
      "      serv_id\n",
      "0  0400000000\n",
      "1  0400000000\n",
      "2  0400000000\n"
     ]
    }
   ],
   "source": [
    "# extracting a mobile number is various formats from a string and creating a dataframe:\n",
    "string = \"My mobile number is 0400000000 and my wife's number is +61400000000. My Mother's number is + 61 400 000 000\"\n",
    "\n",
    "# Define the regex pattern for a mobile number:\n",
    "pattern = r'\\b(?:\\+?\\d{1,4})?\\s*\\d{1,4}\\s*\\d{3}\\s*\\d{3}\\s*\\d{3}\\b'\n",
    "\n",
    "# Use re.search to find the mobile number\n",
    "match = re.findall(pattern,string)\n",
    "\n",
    "# Remove white spaces and replace 61 at the beginning with 0\n",
    "formatted_numbers = []\n",
    "\n",
    "for number in match:\n",
    "    clean_number = re.sub(r'\\s+','', number)  # Remove white spaces\n",
    "    if clean_number.startswith('+61'):\n",
    "        clean_number = clean_number.replace('+61','0', 1)\n",
    "    elif clean_number.startswith('61'):\n",
    "        clean_number = clean_number.replace('61','0', 1)\n",
    "    formatted_numbers.append(clean_number)\n",
    "\n",
    "\n",
    "serv_id = pd.DataFrame({'serv_id':formatted_numbers})\n",
    "\n",
    "print(serv_id)"
   ]
  }
 ],
 "metadata": {
  "kernelspec": {
   "display_name": "Python 3",
   "language": "python",
   "name": "python3"
  },
  "language_info": {
   "codemirror_mode": {
    "name": "ipython",
    "version": 3
   },
   "file_extension": ".py",
   "mimetype": "text/x-python",
   "name": "python",
   "nbconvert_exporter": "python",
   "pygments_lexer": "ipython3",
   "version": "3.12.1"
  }
 },
 "nbformat": 4,
 "nbformat_minor": 2
}
