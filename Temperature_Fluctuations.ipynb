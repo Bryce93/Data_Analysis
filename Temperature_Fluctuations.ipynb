{
 "cells": [
  {
   "cell_type": "markdown",
   "metadata": {},
   "source": [
    "### Temperature Fluctuations:\n",
    "\n",
    "The following is a solution to the 'Temperature Fluctions' question in Python on the Analyst Builder site.\n",
    "\n",
    "url: https://www.analystbuilder.com/questions/temperature-fluctuations-ftFQu\n",
    "\n",
    "##### Problem:\n",
    "\n",
    "Write a query to find all dates with higher temperatures compared to the previous dates (yesterday).\n",
    "\n",
    "Order dates in ascending order."
   ]
  },
  {
   "cell_type": "code",
   "execution_count": 44,
   "metadata": {},
   "outputs": [
    {
     "name": "stdout",
     "output_type": "stream",
     "text": [
      "        date  temperature\n",
      "0 2022-01-01           65\n",
      "1 2022-01-02           70\n",
      "2 2022-01-03           55\n",
      "3 2022-01-04           58\n",
      "4 2022-01-05           90\n",
      "5 2022-01-06           88\n",
      "6 2022-01-07           76\n",
      "7 2022-01-08           82\n",
      "8 2022-01-09           88\n",
      "9 2022-01-10           72\n"
     ]
    }
   ],
   "source": [
    "import pandas as pd\n",
    "\n",
    "# Define the data\n",
    "data = {\n",
    "    'date': [\n",
    "        '2022-01-01', '2022-01-02', '2022-01-03', \n",
    "        '2022-01-04', '2022-01-05', '2022-01-06', \n",
    "        '2022-01-07', '2022-01-08', '2022-01-09', '2022-01-10'\n",
    "    ],\n",
    "    'temperature': [65, 70, 55, 58, 90, 88, 76, 82, 88, 72]\n",
    "}\n",
    "\n",
    "# Create the DataFrame\n",
    "df = pd.DataFrame(data)\n",
    "\n",
    "# Convert 'date' to datetime format if needed\n",
    "df['date'] = pd.to_datetime(df['date'])\n",
    "\n",
    "# Display the DataFrame\n",
    "print(df)\n"
   ]
  },
  {
   "cell_type": "code",
   "execution_count": 45,
   "metadata": {},
   "outputs": [
    {
     "name": "stdout",
     "output_type": "stream",
     "text": [
      "        date  temperature  previous_day_temperature\n",
      "1 2022-01-02           70                        65\n",
      "3 2022-01-04           58                        55\n",
      "4 2022-01-05           90                        58\n",
      "7 2022-01-08           82                        76\n",
      "8 2022-01-09           88                        82\n"
     ]
    }
   ],
   "source": [
    "# Create the new column using the shift() function, replace NaN with 0 and convert from float to an int:\n",
    "df['previous_day_temperature'] = df['temperature'].shift(1).fillna(0).astype(int)\n",
    "\n",
    "# Filter out 2022-01-01 as it will compare temperature with 0:\n",
    "df = df.loc[df['date'] != '2022-01-01']\n",
    "\n",
    "# Filter the df to only show temperatures that are higher then the previous day:\n",
    "df = df.query('temperature > previous_day_temperature')\n",
    "\n",
    "print(df)"
   ]
  }
 ],
 "metadata": {
  "kernelspec": {
   "display_name": "Python 3",
   "language": "python",
   "name": "python3"
  },
  "language_info": {
   "codemirror_mode": {
    "name": "ipython",
    "version": 3
   },
   "file_extension": ".py",
   "mimetype": "text/x-python",
   "name": "python",
   "nbconvert_exporter": "python",
   "pygments_lexer": "ipython3",
   "version": "3.12.1"
  }
 },
 "nbformat": 4,
 "nbformat_minor": 2
}
